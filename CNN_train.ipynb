{
  "nbformat": 4,
  "nbformat_minor": 0,
  "metadata": {
    "colab": {
      "name": "CNN_train.ipynb",
      "provenance": [],
      "collapsed_sections": []
    },
    "kernelspec": {
      "name": "python3",
      "display_name": "Python 3"
    },
    "language_info": {
      "name": "python"
    }
  },
  "cells": [
    {
      "cell_type": "code",
      "execution_count": 1,
      "metadata": {
        "id": "lLQipQWbqL-l"
      },
      "outputs": [],
      "source": [
        "import tensorflow as tf"
      ]
    },
    {
      "cell_type": "code",
      "source": [
        "# Import TensorFlow Datasets\n",
        "import tensorflow_datasets as tfds\n",
        "tfds.disable_progress_bar()\n",
        "\n",
        "# Helper libraries\n",
        "import math\n",
        "import numpy as np\n",
        "import matplotlib.pyplot as plt"
      ],
      "metadata": {
        "id": "tU68J8jGuTCG"
      },
      "execution_count": 2,
      "outputs": []
    },
    {
      "cell_type": "code",
      "source": [
        "import logging\n",
        "logger = tf.get_logger()\n",
        "logger.setLevel(logging.ERROR)"
      ],
      "metadata": {
        "id": "V9NnOk03uWPm"
      },
      "execution_count": 3,
      "outputs": []
    },
    {
      "cell_type": "code",
      "source": [
        "dataset, metadata = tfds.load('mnist', as_supervised=True, with_info=True)\n",
        "train_dataset, test_dataset = dataset['train'], dataset['test']"
      ],
      "metadata": {
        "id": "UkBq3Em1uaQj",
        "colab": {
          "base_uri": "https://localhost:8080/"
        },
        "outputId": "2b7e38a3-7459-46f0-a518-f90de89d7daf"
      },
      "execution_count": 4,
      "outputs": [
        {
          "output_type": "stream",
          "name": "stdout",
          "text": [
            "\u001b[1mDownloading and preparing dataset mnist/3.0.1 (download: 11.06 MiB, generated: 21.00 MiB, total: 32.06 MiB) to /root/tensorflow_datasets/mnist/3.0.1...\u001b[0m\n"
          ]
        },
        {
          "output_type": "stream",
          "name": "stderr",
          "text": [
            "WARNING:absl:Dataset mnist is hosted on GCS. It will automatically be downloaded to your\n",
            "local data directory. If you'd instead prefer to read directly from our public\n",
            "GCS bucket (recommended if you're running on GCP), you can instead pass\n",
            "`try_gcs=True` to `tfds.load` or set `data_dir=gs://tfds-data/datasets`.\n",
            "\n"
          ]
        },
        {
          "output_type": "stream",
          "name": "stdout",
          "text": [
            "\u001b[1mDataset mnist downloaded and prepared to /root/tensorflow_datasets/mnist/3.0.1. Subsequent calls will reuse this data.\u001b[0m\n"
          ]
        }
      ]
    },
    {
      "cell_type": "code",
      "source": [
        "class_names = ['0', '1', '2', '3', '4', '5', '6', '7', '8', '9']"
      ],
      "metadata": {
        "id": "Ybfm2jhOycEy"
      },
      "execution_count": 5,
      "outputs": []
    },
    {
      "cell_type": "code",
      "source": [
        "#Normalize data\n",
        "def normalize(images, labels):\n",
        "  images = tf.cast(images, tf.float32)\n",
        "  images /= 255\n",
        "  return images, labels\n",
        "\n",
        "#Applying normalize() to train and test set\n",
        "train_dataset = train_dataset.map(normalize)\n",
        "test_dataset = test_dataset.map(normalize)\n",
        "\n",
        "# The first time you use the dataset, the images will be loaded from disk\n",
        "# Caching will keep them in memory, making training faster\n",
        "train_dataset =  train_dataset.cache()\n",
        "test_dataset  =  test_dataset.cache()"
      ],
      "metadata": {
        "id": "LpGylq-KuyB8"
      },
      "execution_count": 34,
      "outputs": []
    },
    {
      "cell_type": "code",
      "source": [
        "num_train_examples = metadata.splits['train'].num_examples\n",
        "num_test_examples = metadata.splits['test'].num_examples\n",
        "print(\"Number of training examples: {}\".format(num_train_examples))\n",
        "print(\"Number of test examples:     {}\".format(num_test_examples))"
      ],
      "metadata": {
        "colab": {
          "base_uri": "https://localhost:8080/"
        },
        "id": "nDbZ-xuJ1xSB",
        "outputId": "f8b43c9a-e214-4632-928d-261a5d50e195"
      },
      "execution_count": 7,
      "outputs": [
        {
          "output_type": "stream",
          "name": "stdout",
          "text": [
            "Number of training examples: 60000\n",
            "Number of test examples:     10000\n"
          ]
        }
      ]
    },
    {
      "cell_type": "code",
      "source": [
        "# Take a single image, and remove the color dimension by reshaping\n",
        "for image, label in test_dataset.take(1):\n",
        "  break\n",
        "image = image.numpy().reshape((28,28))\n",
        "\n",
        "# Plot the image\n",
        "plt.figure()\n",
        "plt.imshow(image, cmap=plt.cm.binary)\n",
        "plt.colorbar()\n",
        "plt.grid(False)\n",
        "plt.show()"
      ],
      "metadata": {
        "colab": {
          "base_uri": "https://localhost:8080/",
          "height": 269
        },
        "id": "EYvh4SvGwqsv",
        "outputId": "e6431547-f158-4cf1-a670-03e3add575b7"
      },
      "execution_count": 8,
      "outputs": [
        {
          "output_type": "display_data",
          "data": {
            "text/plain": [
              "<Figure size 432x288 with 2 Axes>"
            ],
            "image/png": "[encoded data removed]"
          },
          "metadata": {
            "needs_background": "light"
          }
        }
      ]
    },
    {
      "cell_type": "code",
      "source": [
        "plt.figure(figsize=(10,10))\n",
        "i = 0\n",
        "for (image, label) in test_dataset.take(25):\n",
        "    image = image.numpy().reshape((28,28))\n",
        "    plt.subplot(5,5,i+1)\n",
        "    plt.xticks([])\n",
        "    plt.yticks([])\n",
        "    plt.grid(False)\n",
        "    plt.imshow(image, cmap=plt.cm.binary)\n",
        "    plt.xlabel(class_names[label])\n",
        "    i += 1\n",
        "plt.show()"
      ],
      "metadata": {
        "colab": {
          "base_uri": "https://localhost:8080/",
          "height": 589
        },
        "id": "c5pFF24lx-ph",
        "outputId": "aa3b937d-fe2c-4925-bae8-686ffacfc02b"
      },
      "execution_count": null,
      "outputs": [
        {
          "output_type": "display_data",
          "data": {
            "text/plain": [
              "<Figure size 720x720 with 25 Axes>"
            ],
            "image/png": "[encoded data removed]"
          },
          "metadata": {}
        }
      ]
    },
    {
      "cell_type": "code",
      "source": [
        "#network architecture\n",
        "#convolution 1: Strided Convolution, one 5x5 filters, stride = 1 ('valid' means no padding)\n",
        "#convolution 2: Strided Convolution, one 5x5 filters, stride = 1 ('valid' means no padding)\n",
        "#maxpooling: 2x2 filter, Stride 2\n",
        "#flattening (basically input layer)\n",
        "#Dense Layer 1 (128 Neurons), Relu\n",
        "#Dense Layer 2 (10 unit output), Softmax\n",
        "\n",
        "model = tf.keras.Sequential([\n",
        "    tf.keras.layers.Conv2D(1, (5,5), strides = (1,1), padding='valid', activation=tf.nn.relu,\n",
        "                           input_shape=(28, 28, 1)),\n",
        "    tf.keras.layers.Conv2D(1, (5,5), strides = (1,1), padding='valid', activation=tf.nn.relu),\n",
        "    tf.keras.layers.MaxPooling2D((2, 2), strides=2),\n",
        "    tf.keras.layers.Flatten(),\n",
        "    tf.keras.layers.Dense(128, activation=tf.nn.relu),\n",
        "    tf.keras.layers.Dense(10, activation=tf.nn.softmax)\n",
        "])"
      ],
      "metadata": {
        "id": "BdO2biSFyW2S"
      },
      "execution_count": 9,
      "outputs": []
    },
    {
      "cell_type": "code",
      "source": [
        "#Adam optimizer, learning rate = 0.01 Beta 1 = 0.95, Beta 2 = 0.99\n",
        "model.compile(tf.keras.optimizers.Adam(\n",
        "    learning_rate=0.01,\n",
        "    beta_1=0.95,\n",
        "    beta_2=0.99),\n",
        "    loss=tf.keras.losses.SparseCategoricalCrossentropy(), # I cant use CategoricalCrossentropy() because the data is loaded in mode 'int'\n",
        "    metrics=['accuracy'])"
      ],
      "metadata": {
        "id": "kTOrZH1F0SLj"
      },
      "execution_count": 10,
      "outputs": []
    },
    {
      "cell_type": "code",
      "source": [
        "#Data: Batch Size 32 (the number of samples to work through before updating the internal model parameters.)\n",
        "BATCH_SIZE = 32\n",
        "train_dataset = train_dataset.cache().repeat().shuffle(num_train_examples).batch(BATCH_SIZE)\n",
        "test_dataset = test_dataset.cache().batch(BATCH_SIZE)"
      ],
      "metadata": {
        "id": "oSu4hADQ1Qei"
      },
      "execution_count": 11,
      "outputs": []
    },
    {
      "cell_type": "code",
      "source": [
        "#Fitting model: Epochs = 2\n",
        "model.fit(train_dataset, epochs=2, steps_per_epoch=math.ceil(num_train_examples/BATCH_SIZE))"
      ],
      "metadata": {
        "colab": {
          "base_uri": "https://localhost:8080/"
        },
        "id": "iRkDbQGj1WaS",
        "outputId": "0481016e-c2b0-4b7d-e362-34fd0ef6cc9f"
      },
      "execution_count": 12,
      "outputs": [
        {
          "output_type": "stream",
          "name": "stdout",
          "text": [
            "Epoch 1/2\n",
            "1875/1875 [==============================] - 37s 16ms/step - loss: 0.2548 - accuracy: 0.9200\n",
            "Epoch 2/2\n",
            "1875/1875 [==============================] - 30s 16ms/step - loss: 0.1495 - accuracy: 0.9531\n"
          ]
        },
        {
          "output_type": "execute_result",
          "data": {
            "text/plain": [
              "<keras.callbacks.History at 0x7f642fa85810>"
            ]
          },
          "metadata": {},
          "execution_count": 12
        }
      ]
    },
    {
      "cell_type": "code",
      "source": [
        "#Evaluating model\n",
        "model.evaluate(test_dataset)"
      ],
      "metadata": {
        "colab": {
          "base_uri": "https://localhost:8080/"
        },
        "id": "yTg_m3rtFHXV",
        "outputId": "ee41d55e-75b9-45c8-f239-9b4fa4774672"
      },
      "execution_count": 13,
      "outputs": [
        {
          "output_type": "stream",
          "name": "stdout",
          "text": [
            "313/313 [==============================] - 4s 13ms/step - loss: 0.1430 - accuracy: 0.9587\n"
          ]
        },
        {
          "output_type": "execute_result",
          "data": {
            "text/plain": [
              "[0.1429523080587387, 0.9587000012397766]"
            ]
          },
          "metadata": {},
          "execution_count": 13
        }
      ]
    },
    {
      "cell_type": "code",
      "source": [
        "#Saving model in .hdf5\n",
        "model.save('my_model.hdf5')"
      ],
      "metadata": {
        "id": "ZmG6hXk3_zD0"
      },
      "execution_count": 14,
      "outputs": []
    },
    {
      "cell_type": "code",
      "source": [
        "#Creating a new model from the saved weights\n",
        "reconstructed_model = tf.keras.models.load_model('my_model.hdf5')"
      ],
      "metadata": {
        "id": "s_4zTEyvI28P"
      },
      "execution_count": 18,
      "outputs": []
    },
    {
      "cell_type": "code",
      "source": [
        "#Testing if the new model from the same weights has the same test set accuracy\n",
        "reconstructed_model.evaluate(test_dataset)"
      ],
      "metadata": {
        "colab": {
          "base_uri": "https://localhost:8080/"
        },
        "id": "v15QcS8YJRQU",
        "outputId": "fa714f86-1c4b-407f-abab-89e1c6ab0b35"
      },
      "execution_count": 19,
      "outputs": [
        {
          "output_type": "stream",
          "name": "stdout",
          "text": [
            "313/313 [==============================] - 4s 12ms/step - loss: 0.1430 - accuracy: 0.9587\n"
          ]
        },
        {
          "output_type": "execute_result",
          "data": {
            "text/plain": [
              "[0.1429523080587387, 0.9587000012397766]"
            ]
          },
          "metadata": {},
          "execution_count": 19
        }
      ]
    },
    {
      "cell_type": "code",
      "source": [
        "#weights\n",
        "conv1 = model.layers[0].get_weights()[0]\n",
        "conv2 = model.layers[1].get_weights()[0]\n",
        "d1 = model.layers[4].get_weights()[0]\n",
        "d2 = model.layers[5].get_weights()[0]\n",
        "\n",
        "#biases\n",
        "b1 = model.layers[0].get_weights()[1]\n",
        "b2 = model.layers[1].get_weights()[1]\n",
        "b3 = model.layers[4].get_weights()[1]\n",
        "b4 = model.layers[5].get_weights()[1]\n",
        "\n",
        "to_save = [conv1,conv2,d1,d2,b1,b2,b3,b4]"
      ],
      "metadata": {
        "id": "bhI8OAerHtHf"
      },
      "execution_count": 17,
      "outputs": []
    },
    {
      "cell_type": "code",
      "source": [
        "model.summary()"
      ],
      "metadata": {
        "colab": {
          "base_uri": "https://localhost:8080/"
        },
        "id": "GKfGVOw8eh51",
        "outputId": "459f1075-3b1b-4d28-a247-72de2dd60f3b"
      },
      "execution_count": 15,
      "outputs": [
        {
          "output_type": "stream",
          "name": "stdout",
          "text": [
            "Model: \"sequential\"\n",
            "_________________________________________________________________\n",
            " Layer (type)                Output Shape              Param #   \n",
            "=================================================================\n",
            " conv2d (Conv2D)             (None, 24, 24, 1)         26        \n",
            "                                                                 \n",
            " conv2d_1 (Conv2D)           (None, 20, 20, 1)         26        \n",
            "                                                                 \n",
            " max_pooling2d (MaxPooling2D  (None, 10, 10, 1)        0         \n",
            " )                                                               \n",
            "                                                                 \n",
            " flatten (Flatten)           (None, 100)               0         \n",
            "                                                                 \n",
            " dense (Dense)               (None, 128)               12928     \n",
            "                                                                 \n",
            " dense_1 (Dense)             (None, 10)                1290      \n",
            "                                                                 \n",
            "=================================================================\n",
            "Total params: 14,270\n",
            "Trainable params: 14,270\n",
            "Non-trainable params: 0\n",
            "_________________________________________________________________\n"
          ]
        }
      ]
    },
    {
      "cell_type": "code",
      "source": [
        "import pickle\n",
        "with open('weights_demo.pkl', 'wb') as file:\n",
        "  pickle.dump(to_save, file)"
      ],
      "metadata": {
        "id": "FDNYFHRbT-9e"
      },
      "execution_count": 20,
      "outputs": []
    },
    {
      "cell_type": "code",
      "source": [
        "import numpy as np\n",
        "import gzip\n",
        "\n",
        "def extract_data(filename, num_images, IMAGE_WIDTH):\n",
        "    '''\n",
        "    Extract images by reading the file bytestream. Reshape the read values into a 3D matrix of dimensions [m, h, w], where m \n",
        "    is the number of training examples.\n",
        "    '''\n",
        "    print('Extracting', filename)\n",
        "    with gzip.open(filename) as bytestream:\n",
        "        bytestream.read(16)\n",
        "        buf = bytestream.read(IMAGE_WIDTH * IMAGE_WIDTH * num_images)\n",
        "        data = np.frombuffer(buf, dtype=np.uint8).astype(np.float32)\n",
        "        data = data.reshape(num_images, IMAGE_WIDTH*IMAGE_WIDTH)\n",
        "        return data\n",
        "\n",
        "def extract_labels(filename, num_images):\n",
        "    '''\n",
        "    Extract label into vector of integer values of dimensions [m, 1], where m is the number of images.\n",
        "    '''\n",
        "    print('Extracting', filename)\n",
        "    with gzip.open(filename) as bytestream:\n",
        "        bytestream.read(8)\n",
        "        buf = bytestream.read(1 * num_images)\n",
        "        labels = np.frombuffer(buf, dtype=np.uint8).astype(np.int64)\n",
        "    return labels"
      ],
      "metadata": {
        "id": "jSdmZDjRdFTb"
      },
      "execution_count": 21,
      "outputs": []
    },
    {
      "cell_type": "code",
      "source": [
        "m =10000\n",
        "X = extract_data('t10k-images-idx3-ubyte.gz', m, 28)\n",
        "y_dash = extract_labels('t10k-labels-idx1-ubyte.gz', m).reshape(m,1)\n",
        "# Normalize the data\n",
        "X /= 255\n",
        "test_data = np.hstack((X,y_dash))\n",
        "\n",
        "X = test_data[:,0:-1]\n",
        "X = X.reshape(len(test_data), 28, 28,1)\n",
        "y = test_data[:,-1]"
      ],
      "metadata": {
        "id": "qSeu_IVLD99v",
        "colab": {
          "base_uri": "https://localhost:8080/"
        },
        "outputId": "cd7fb923-8553-464a-ffc0-84b337dc737d"
      },
      "execution_count": 22,
      "outputs": [
        {
          "output_type": "stream",
          "name": "stdout",
          "text": [
            "Extracting t10k-images-idx3-ubyte.gz\n",
            "Extracting t10k-labels-idx1-ubyte.gz\n"
          ]
        }
      ]
    },
    {
      "cell_type": "code",
      "source": [
        "test_image = X[0]\n",
        "\n",
        "# Plot the image\n",
        "plt.figure()\n",
        "plt.imshow(test_image.reshape((28,28)), cmap=plt.cm.binary)\n",
        "plt.colorbar()\n",
        "plt.grid(False)\n",
        "plt.show()"
      ],
      "metadata": {
        "colab": {
          "base_uri": "https://localhost:8080/",
          "height": 269
        },
        "id": "xKJ11NHjFLJc",
        "outputId": "404cd73a-0291-404d-94ae-01e692fe0527"
      },
      "execution_count": 23,
      "outputs": [
        {
          "output_type": "display_data",
          "data": {
            "text/plain": [
              "<Figure size 432x288 with 2 Axes>"
            ],
            "image/png": "[encoded data removed]"
          },
          "metadata": {
            "needs_background": "light"
          }
        }
      ]
    },
    {
      "cell_type": "code",
      "source": [
        "#Output from Convolution Layer 1\n",
        "from keras.models import Model\n",
        "\n",
        "XX = model.input\n",
        "YY = model.layers[0].output\n",
        "new_model = Model(XX, YY)\n",
        "\n",
        "test_image = test_image.reshape((1,28,28))\n",
        "ex_image = tf.convert_to_tensor(test_image)\n",
        "Xresult = new_model.predict(ex_image)\n",
        "\n",
        "# Plot the image\n",
        "plt.figure()\n",
        "plt.imshow(Xresult.reshape((24,24)), cmap=plt.cm.binary)\n",
        "plt.colorbar()\n",
        "plt.grid(False)\n",
        "plt.show()"
      ],
      "metadata": {
        "colab": {
          "base_uri": "https://localhost:8080/",
          "height": 265
        },
        "id": "eQG1U7wDFO4B",
        "outputId": "3f211ff8-1828-4ed3-ff8a-0fdc0389357f"
      },
      "execution_count": 33,
      "outputs": [
        {
          "output_type": "display_data",
          "data": {
            "text/plain": [
              "<Figure size 432x288 with 2 Axes>"
            ],
            "image/png": "[encoded data removed]"
          },
          "metadata": {
            "needs_background": "light"
          }
        }
      ]
    },
    {
      "cell_type": "code",
      "source": [
        "#Output from Convolution Layer 2\n",
        "from keras.models import Model\n",
        "\n",
        "XX = model.input\n",
        "YY = model.layers[1].output\n",
        "new_model = Model(XX, YY)\n",
        "\n",
        "test_image = test_image.reshape((1,28,28))\n",
        "ex_image = tf.convert_to_tensor(test_image)\n",
        "Xresult_2 = new_model.predict(ex_image)\n",
        "\n",
        "# Plot the image\n",
        "plt.figure()\n",
        "plt.imshow(Xresult_2.reshape((20,20)), cmap=plt.cm.binary)\n",
        "plt.colorbar()\n",
        "plt.grid(False)\n",
        "plt.show()\n",
        "\n",
        "tf_after_conv2 = str(Xresult_2.reshape((20,20)))\n",
        "\n",
        "with open('tf_after_conv2.txt', 'w') as f2:\n",
        "  s = ''.join(tf_after_conv2)\n",
        "  f2.write(s)"
      ],
      "metadata": {
        "id": "mqjz3xfbGMJq"
      },
      "execution_count": 32,
      "outputs": []
    },
    {
      "cell_type": "code",
      "source": [
        "plt.figure(figsize=(20,20))\n",
        "i = 0\n",
        "conv_images = [test_image, Xresult, Xresult_2]\n",
        "for image in conv_images:\n",
        "    if i == 0:\n",
        "      image = image.reshape((28,28))\n",
        "    elif i == 1:\n",
        "      image = image.reshape((24,24))\n",
        "    else:\n",
        "      image = image.reshape((20,20))\n",
        "    plt.subplot(5,5,i+1)\n",
        "    plt.xticks([])\n",
        "    plt.yticks([])\n",
        "    plt.grid(False)\n",
        "    plt.imshow(image, cmap=plt.cm.binary)\n",
        "    plt.xlabel(i)\n",
        "    i += 1\n",
        "plt.savefig('tensorflow_CNN.png')"
      ],
      "metadata": {
        "colab": {
          "base_uri": "https://localhost:8080/",
          "height": 232
        },
        "id": "P-zwZLLeJQc9",
        "outputId": "3b93f347-73d4-4904-dd09-53ec926c50d7"
      },
      "execution_count": 27,
      "outputs": [
        {
          "output_type": "display_data",
          "data": {
            "text/plain": [
              "<Figure size 1440x1440 with 3 Axes>"
            ],
            "image/png": "[encoded data removed]"
          },
          "metadata": {}
        }
      ]
    },
    {
      "cell_type": "code",
      "source": [
        ""
      ],
      "metadata": {
        "id": "Uqxkiu-1Jp7Y"
      },
      "execution_count": null,
      "outputs": []
    }
  ]
}