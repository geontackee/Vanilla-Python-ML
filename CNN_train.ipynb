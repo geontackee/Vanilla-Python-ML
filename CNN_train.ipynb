{
  "nbformat": 4,
  "nbformat_minor": 0,
  "metadata": {
    "colab": {
      "name": "CNN_train.ipynb",
      "provenance": [],
      "collapsed_sections": []
    },
    "kernelspec": {
      "name": "python3",
      "display_name": "Python 3"
    },
    "language_info": {
      "name": "python"
    }
  },
  "cells": [
    {
      "cell_type": "code",
      "execution_count": 1,
      "metadata": {
        "id": "lLQipQWbqL-l"
      },
      "outputs": [],
      "source": [
        "import tensorflow as tf"
      ]
    },
    {
      "cell_type": "code",
      "source": [
        "# Import TensorFlow Datasets\n",
        "import tensorflow_datasets as tfds\n",
        "tfds.disable_progress_bar()\n",
        "\n",
        "# Helper libraries\n",
        "import math\n",
        "import numpy as np\n",
        "import matplotlib.pyplot as plt"
      ],
      "metadata": {
        "id": "tU68J8jGuTCG"
      },
      "execution_count": 2,
      "outputs": []
    },
    {
      "cell_type": "code",
      "source": [
        "import logging\n",
        "logger = tf.get_logger()\n",
        "logger.setLevel(logging.ERROR)"
      ],
      "metadata": {
        "id": "V9NnOk03uWPm"
      },
      "execution_count": 3,
      "outputs": []
    },
    {
      "cell_type": "code",
      "source": [
        "#MNIST Dataset\n",
        "dataset, metadata = tfds.load('mnist', as_supervised=True, with_info=True)\n",
        "train_dataset, test_dataset = dataset['train'], dataset['test']"
      ],
      "metadata": {
        "id": "UkBq3Em1uaQj",
        "colab": {
          "base_uri": "https://localhost:8080/"
        },
        "outputId": "a7c772b6-5546-4bb0-d25f-92c6a529fc01"
      },
      "execution_count": null,
      "outputs": [
        {
          "output_type": "stream",
          "name": "stdout",
          "text": [
            "\u001b[1mDownloading and preparing dataset mnist/3.0.1 (download: 11.06 MiB, generated: 21.00 MiB, total: 32.06 MiB) to /root/tensorflow_datasets/mnist/3.0.1...\u001b[0m\n"
          ]
        },
        {
          "output_type": "stream",
          "name": "stderr",
          "text": [
            "WARNING:absl:Dataset mnist is hosted on GCS. It will automatically be downloaded to your\n",
            "local data directory. If you'd instead prefer to read directly from our public\n",
            "GCS bucket (recommended if you're running on GCP), you can instead pass\n",
            "`try_gcs=True` to `tfds.load` or set `data_dir=gs://tfds-data/datasets`.\n",
            "\n"
          ]
        },
        {
          "output_type": "stream",
          "name": "stdout",
          "text": [
            "\u001b[1mDataset mnist downloaded and prepared to /root/tensorflow_datasets/mnist/3.0.1. Subsequent calls will reuse this data.\u001b[0m\n"
          ]
        }
      ]
    },
    {
      "cell_type": "code",
      "source": [
        "#Fashion MNIST Dataset\n",
        "dataset, metadata = tfds.load('FashionMNIST', as_supervised=True, with_info=True)\n",
        "train_dataset, test_dataset = dataset['train'], dataset['test']"
      ],
      "metadata": {
        "colab": {
          "base_uri": "https://localhost:8080/"
        },
        "id": "9668DdOluglh",
        "outputId": "d1f71200-0854-4fc8-874d-beaed25e6859"
      },
      "execution_count": 6,
      "outputs": [
        {
          "output_type": "stream",
          "name": "stdout",
          "text": [
            "\u001b[1mDownloading and preparing dataset fashion_mnist/3.0.1 (download: 29.45 MiB, generated: 36.42 MiB, total: 65.87 MiB) to /root/tensorflow_datasets/fashion_mnist/3.0.1...\u001b[0m\n",
            "Shuffling and writing examples to /root/tensorflow_datasets/fashion_mnist/3.0.1.incompleteHK3GVA/fashion_mnist-train.tfrecord\n",
            "Shuffling and writing examples to /root/tensorflow_datasets/fashion_mnist/3.0.1.incompleteHK3GVA/fashion_mnist-test.tfrecord\n",
            "\u001b[1mDataset fashion_mnist downloaded and prepared to /root/tensorflow_datasets/fashion_mnist/3.0.1. Subsequent calls will reuse this data.\u001b[0m\n"
          ]
        }
      ]
    },
    {
      "cell_type": "code",
      "source": [
        "#Normalize data\n",
        "def normalize(images, labels):\n",
        "  images = tf.cast(images, tf.float32)\n",
        "  images /= 255\n",
        "  return images, labels\n",
        "\n",
        "#Applying normalize() to train and test set\n",
        "train_dataset = train_dataset.map(normalize)\n",
        "test_dataset = test_dataset.map(normalize)\n",
        "\n",
        "# The first time you use the dataset, the images will be loaded from disk\n",
        "# Caching will keep them in memory, making training faster\n",
        "train_dataset =  train_dataset.cache()\n",
        "test_dataset  =  test_dataset.cache()"
      ],
      "metadata": {
        "id": "LpGylq-KuyB8"
      },
      "execution_count": 7,
      "outputs": []
    },
    {
      "cell_type": "code",
      "source": [
        "num_train_examples = metadata.splits['train'].num_examples\n",
        "num_test_examples = metadata.splits['test'].num_examples\n",
        "print(\"Number of training examples: {}\".format(num_train_examples))\n",
        "print(\"Number of test examples:     {}\".format(num_test_examples))"
      ],
      "metadata": {
        "colab": {
          "base_uri": "https://localhost:8080/"
        },
        "id": "nDbZ-xuJ1xSB",
        "outputId": "b269540c-bac6-40c6-8942-daaf85ebd5cb"
      },
      "execution_count": 8,
      "outputs": [
        {
          "output_type": "stream",
          "name": "stdout",
          "text": [
            "Number of training examples: 60000\n",
            "Number of test examples:     10000\n"
          ]
        }
      ]
    },
    {
      "cell_type": "code",
      "source": [
        "#network architecture 1 with single convolution filter\n",
        "#convolution 1: Strided Convolution, one 5x5 filters, stride = 1 ('valid' means no padding)\n",
        "#convolution 2: Strided Convolution, one 5x5 filters, stride = 1 ('valid' means no padding)\n",
        "#maxpooling: 2x2 filter, Stride 2\n",
        "#flattening (basically input layer)\n",
        "#Dense Layer 1 (128 Neurons), Relu\n",
        "#Dense Layer 2 (10 unit output), Softmax\n",
        "\n",
        "model = tf.keras.Sequential([\n",
        "    tf.keras.layers.Conv2D(1, (5,5), strides = (1,1), padding='valid', activation=tf.nn.relu,\n",
        "                           input_shape=(28, 28, 1)),\n",
        "    tf.keras.layers.Conv2D(1, (5,5), strides = (1,1), padding='valid', activation=tf.nn.relu),\n",
        "    tf.keras.layers.MaxPooling2D((2, 2), strides=2),\n",
        "    tf.keras.layers.Flatten(),\n",
        "    tf.keras.layers.Dense(128, activation=tf.nn.relu),\n",
        "    tf.keras.layers.Dense(10, activation=tf.nn.softmax)\n",
        "])"
      ],
      "metadata": {
        "id": "BdO2biSFyW2S"
      },
      "execution_count": null,
      "outputs": []
    },
    {
      "cell_type": "code",
      "source": [
        "#network architecture 2 with multiple convolution filters\n",
        "#convolution 1: Strided Convolution, eight 5x5 filters, stride = 1 ('valid' means no padding)\n",
        "#convolution 2: Strided Convolution, eight 5x5 filters, stride = 1 ('valid' means no padding)\n",
        "#maxpooling: 2x2 filter, Stride 2\n",
        "#flattening (basically input layer)\n",
        "#Dense Layer 1 (128 Neurons), Relu\n",
        "#Dense Layer 2 (10 unit output), Softmax\n",
        "\n",
        "model2 = tf.keras.Sequential([\n",
        "    tf.keras.layers.Conv2D(8, (5,5), strides = (1,1), padding = 'valid', activation=tf.nn.relu, input_shape=(28,28,1)),\n",
        "    tf.keras.layers.Conv2D(8, (5,5), strides = (1,1), padding = 'valid', activation=tf.nn.relu),\n",
        "    tf.keras.layers.MaxPooling2D((2,2), strides=2),\n",
        "    tf.keras.layers.Flatten(),\n",
        "    tf.keras.layers.Dense(128, activation=tf.nn.relu),\n",
        "    tf.keras.layers.Dense(10, activation=tf.nn.softmax)\n",
        "])"
      ],
      "metadata": {
        "id": "GvBKlB4R_iEl"
      },
      "execution_count": null,
      "outputs": []
    },
    {
      "cell_type": "code",
      "source": [
        "#network architecture 3 with multiple convolution fitlers and padding\n",
        "model3 = tf.keras.Sequential([\n",
        "    tf.keras.layers.Conv2D(8, (5,5), strides = (1,1), padding = 'same', activation=tf.nn.relu, input_shape=(28,28,1)),\n",
        "    tf.keras.layers.Conv2D(8, (5,5), strides = (1,1), padding = 'same', activation=tf.nn.relu),\n",
        "    tf.keras.layers.MaxPooling2D((2,2), strides = 2),\n",
        "    tf.keras.layers.Flatten(),\n",
        "    tf.keras.layers.Dense(128, activation=tf.nn.relu),\n",
        "    tf.keras.layers.Dense(10, activation=tf.nn.softmax)\n",
        "])"
      ],
      "metadata": {
        "id": "JlhJVvJ_AJYp"
      },
      "execution_count": 9,
      "outputs": []
    },
    {
      "cell_type": "code",
      "source": [
        "#Adam optimizer, learning rate = 0.01 Beta 1 = 0.95, Beta 2 = 0.99\n",
        "model.compile(tf.keras.optimizers.Adam(\n",
        "    learning_rate=0.01,\n",
        "    beta_1=0.95,\n",
        "    beta_2=0.99),\n",
        "    loss=tf.keras.losses.SparseCategoricalCrossentropy(), # I cant use CategoricalCrossentropy() because the data is loaded in mode 'int'\n",
        "    metrics=['accuracy'])"
      ],
      "metadata": {
        "id": "kTOrZH1F0SLj"
      },
      "execution_count": null,
      "outputs": []
    },
    {
      "cell_type": "code",
      "source": [
        "#model2: Adam optimizer, learning rate = 0.01 Beta 1 = 0.95, Beta 2 = 0.99\n",
        "model2.compile(tf.keras.optimizers.Adam(\n",
        "    learning_rate=0.01,\n",
        "    beta_1=0.95,\n",
        "    beta_2=0.99),\n",
        "    loss=tf.keras.losses.SparseCategoricalCrossentropy(),\n",
        "    metrics=['accuracy']\n",
        ")"
      ],
      "metadata": {
        "id": "_WaGJEq4AkNL"
      },
      "execution_count": null,
      "outputs": []
    },
    {
      "cell_type": "code",
      "source": [
        "#model3: Adam optimizer, leraning rate = 0.01 Beta 1 = 0.95, Beta 2 = 0.99\n",
        "model3.compile(tf.keras.optimizers.Adam(\n",
        "    learning_rate=0.01,\n",
        "    beta_1=0.95,\n",
        "    beta_2=0.99),\n",
        "    loss=tf.keras.losses.SparseCategoricalCrossentropy(),\n",
        "    metrics=['accuracy']\n",
        ")"
      ],
      "metadata": {
        "id": "fcMzk-XCB2se"
      },
      "execution_count": 10,
      "outputs": []
    },
    {
      "cell_type": "code",
      "source": [
        "#Data: Batch Size 32 (the number of samples to work through before updating the internal model parameters.)\n",
        "BATCH_SIZE = 32\n",
        "train_dataset = train_dataset.cache().repeat().shuffle(num_train_examples).batch(BATCH_SIZE)\n",
        "test_dataset = test_dataset.cache().batch(BATCH_SIZE)"
      ],
      "metadata": {
        "id": "oSu4hADQ1Qei"
      },
      "execution_count": 12,
      "outputs": []
    },
    {
      "cell_type": "code",
      "source": [
        "#model3: Fitting model: Epochs = 2\n",
        "model3.fit(train_dataset, epochs=2, steps_per_epoch=math.ceil(num_train_examples/BATCH_SIZE))"
      ],
      "metadata": {
        "colab": {
          "base_uri": "https://localhost:8080/"
        },
        "id": "Ui4NCmoCCTgQ",
        "outputId": "614de351-1f29-4609-c184-24d96cd02f90"
      },
      "execution_count": 13,
      "outputs": [
        {
          "output_type": "stream",
          "name": "stdout",
          "text": [
            "Epoch 1/2\n",
            "1875/1875 [==============================] - 83s 41ms/step - loss: 0.4106 - accuracy: 0.8495\n",
            "Epoch 2/2\n",
            "1875/1875 [==============================] - 76s 40ms/step - loss: 0.3171 - accuracy: 0.8859\n"
          ]
        },
        {
          "output_type": "execute_result",
          "data": {
            "text/plain": [
              "<keras.callbacks.History at 0x7f6088e444d0>"
            ]
          },
          "metadata": {},
          "execution_count": 13
        }
      ]
    },
    {
      "cell_type": "code",
      "source": [
        "#Saving model3 in .hdf5\n",
        "model3.save('my_model3.hdf5')"
      ],
      "metadata": {
        "id": "J_9VO9bI_Iuj"
      },
      "execution_count": 14,
      "outputs": []
    },
    {
      "cell_type": "code",
      "source": [
        "#Evaluate model3\n",
        "model3 = tf.keras.models.load_model('/content/drive/MyDrive/CNN_Implementation/my_model3.hdf5')"
      ],
      "metadata": {
        "id": "3tmvI7CP-36g"
      },
      "execution_count": null,
      "outputs": []
    },
    {
      "cell_type": "code",
      "source": [
        "#weights of model3\n",
        "conv1_3 = model3.layers[0].get_weights()[0]\n",
        "conv2_3 = model3.layers[1].get_weights()[0]\n",
        "d1_3 = model3.layers[4].get_weights()[0]\n",
        "d2_3 = model3.layers[5].get_weights()[0]\n",
        "\n",
        "#biases of model3\n",
        "b1_3 = model3.layers[0].get_weights()[1]\n",
        "b2_3 = model3.layers[1].get_weights()[1]\n",
        "b3_3 = model3.layers[4].get_weights()[1]\n",
        "b4_3 = model3.layers[5].get_weights()[1]\n",
        "\n",
        "to_save_model3 = [conv1_3, conv2_3, d1_3, d2_3, b1_3, b2_3, b3_3, b4_3]"
      ],
      "metadata": {
        "id": "UhkmxHPO_QA8"
      },
      "execution_count": 15,
      "outputs": []
    },
    {
      "cell_type": "code",
      "source": [
        "#Summary of model3\n",
        "model3.summary()"
      ],
      "metadata": {
        "colab": {
          "base_uri": "https://localhost:8080/"
        },
        "id": "xbU_B4_J_172",
        "outputId": "372d7015-8b02-450f-8817-7b492c7c5012"
      },
      "execution_count": 16,
      "outputs": [
        {
          "output_type": "stream",
          "name": "stdout",
          "text": [
            "Model: \"sequential\"\n",
            "_________________________________________________________________\n",
            " Layer (type)                Output Shape              Param #   \n",
            "=================================================================\n",
            " conv2d (Conv2D)             (None, 28, 28, 8)         208       \n",
            "                                                                 \n",
            " conv2d_1 (Conv2D)           (None, 28, 28, 8)         1608      \n",
            "                                                                 \n",
            " max_pooling2d (MaxPooling2D  (None, 14, 14, 8)        0         \n",
            " )                                                               \n",
            "                                                                 \n",
            " flatten (Flatten)           (None, 1568)              0         \n",
            "                                                                 \n",
            " dense (Dense)               (None, 128)               200832    \n",
            "                                                                 \n",
            " dense_1 (Dense)             (None, 10)                1290      \n",
            "                                                                 \n",
            "=================================================================\n",
            "Total params: 203,938\n",
            "Trainable params: 203,938\n",
            "Non-trainable params: 0\n",
            "_________________________________________________________________\n"
          ]
        }
      ]
    },
    {
      "cell_type": "code",
      "source": [
        "#Saving model3 weights to pickle file\n",
        "import pickle\n",
        "with open('fashion_mnist.pkl', 'wb') as file:\n",
        "  pickle.dump(to_save_model3, file)"
      ],
      "metadata": {
        "id": "zGsw8ELPAA4I"
      },
      "execution_count": 17,
      "outputs": []
    },
    {
      "cell_type": "code",
      "source": [
        "import numpy as np\n",
        "import gzip\n",
        "\n",
        "def extract_data(filename, num_images, IMAGE_WIDTH):\n",
        "    print('Extracting', filename)\n",
        "    with gzip.open(filename) as bytestream:\n",
        "        bytestream.read(16)\n",
        "        buf = bytestream.read(IMAGE_WIDTH * IMAGE_WIDTH * num_images)\n",
        "        data = np.frombuffer(buf, dtype=np.uint8).astype(np.float32)\n",
        "        data = data.reshape(num_images, IMAGE_WIDTH*IMAGE_WIDTH)\n",
        "        return data\n",
        "\n",
        "def extract_labels(filename, num_images):\n",
        "    print('Extracting', filename)\n",
        "    with gzip.open(filename) as bytestream:\n",
        "        bytestream.read(8)\n",
        "        buf = bytestream.read(1 * num_images)\n",
        "        labels = np.frombuffer(buf, dtype=np.uint8).astype(np.int64)\n",
        "    return labels"
      ],
      "metadata": {
        "id": "jSdmZDjRdFTb"
      },
      "execution_count": 18,
      "outputs": []
    },
    {
      "cell_type": "code",
      "source": [
        "m =10000\n",
        "X = extract_data('t10k-images-fashion_mnist.gz', m, 28)\n",
        "y_dash = extract_labels('t10k-labels-fashion_mnist-ubyte.gz', m).reshape(m,1)\n",
        "# Normalize the data\n",
        "X /= 255\n",
        "test_data = np.hstack((X,y_dash))\n",
        "\n",
        "X = test_data[:,0:-1]\n",
        "X = X.reshape(len(test_data), 28, 28,1)\n",
        "y = test_data[:,-1]"
      ],
      "metadata": {
        "id": "qSeu_IVLD99v",
        "colab": {
          "base_uri": "https://localhost:8080/"
        },
        "outputId": "d8074b3a-2db8-42d5-e6de-cd78de09efb6"
      },
      "execution_count": 19,
      "outputs": [
        {
          "output_type": "stream",
          "name": "stdout",
          "text": [
            "Extracting /content/drive/MyDrive/CNN_Implementation/t10k-images-fashion_mnist.gz\n",
            "Extracting /content/drive/MyDrive/CNN_Implementation/t10k-labels-fashion_mnist-ubyte.gz\n"
          ]
        }
      ]
    },
    {
      "cell_type": "code",
      "source": [
        "test_image = X[0]\n",
        "\n",
        "# Plot the image\n",
        "plt.figure()\n",
        "plt.imshow(test_image.reshape((28,28)), cmap=plt.cm.binary)\n",
        "plt.colorbar()\n",
        "plt.grid(False)\n",
        "plt.show()"
      ],
      "metadata": {
        "colab": {
          "base_uri": "https://localhost:8080/",
          "height": 269
        },
        "id": "xKJ11NHjFLJc",
        "outputId": "5005e98a-3341-4a11-e72b-614f1fd607c7"
      },
      "execution_count": 20,
      "outputs": [
        {
          "output_type": "display_data",
          "data": {
            "text/plain": [
              "<Figure size 432x288 with 2 Axes>"
            ],
            "image/png": "[encoded data removed]"
          },
          "metadata": {
            "needs_background": "light"
          }
        }
      ]
    },
    {
      "cell_type": "code",
      "source": [
        "#Output from Convolution Layer 1 after ReLu\n",
        "from keras.models import Model\n",
        "import time\n",
        "\n",
        "XX = model3.input\n",
        "YY = model3.layers[0].output\n",
        "new_model = Model(XX, YY)\n",
        "\n",
        "test_image = test_image.reshape((1,28,28))\n",
        "ex_image = tf.convert_to_tensor(test_image)\n",
        "Xresult = new_model.predict(ex_image)\n",
        "\n",
        "\n",
        "Xresult.reshape(28,28,8)\n",
        "# Plot the image\n",
        "plt.figure()\n",
        "plt.setp(plt.gcf().get_axes(), xticks=[], yticks=[])\n",
        "for i in range(8):\n",
        "  plt.imshow(Xresult[:,:,:,i].reshape(28,28), cmap=plt.cm.binary)\n",
        "  plt.show()"
      ],
      "metadata": {
        "colab": {
          "base_uri": "https://localhost:8080/",
          "height": 1000
        },
        "id": "eQG1U7wDFO4B",
        "outputId": "4c2c4a4f-ebde-4e03-c3b6-0cc710d3476e"
      },
      "execution_count": 21,
      "outputs": [
        {
          "output_type": "display_data",
          "data": {
            "text/plain": [
              "<Figure size 432x288 with 1 Axes>"
            ],
            "image/png": "[encoded data removed]"
          },
          "metadata": {
            "needs_background": "light"
          }
        },
        {
          "output_type": "display_data",
          "data": {
            "text/plain": [
              "<Figure size 432x288 with 1 Axes>"
            ],
            "image/png": "[encoded data removed]"
          },
          "metadata": {
            "needs_background": "light"
          }
        },
        {
          "output_type": "display_data",
          "data": {
            "text/plain": [
              "<Figure size 432x288 with 1 Axes>"
            ],
            "image/png": "[encoded data removed]"
          },
          "metadata": {
            "needs_background": "light"
          }
        },
        {
          "output_type": "display_data",
          "data": {
            "text/plain": [
              "<Figure size 432x288 with 1 Axes>"
            ],
            "image/png": "[encoded data removed]"
          },
          "metadata": {
            "needs_background": "light"
          }
        },
        {
          "output_type": "display_data",
          "data": {
            "text/plain": [
              "<Figure size 432x288 with 1 Axes>"
            ],
            "image/png": "[encoded data removed]"
          },
          "metadata": {
            "needs_background": "light"
          }
        },
        {
          "output_type": "display_data",
          "data": {
            "text/plain": [
              "<Figure size 432x288 with 1 Axes>"
            ],
            "image/png": "[encoded data removed]"
          },
          "metadata": {
            "needs_background": "light"
          }
        },
        {
          "output_type": "display_data",
          "data": {
            "text/plain": [
              "<Figure size 432x288 with 1 Axes>"
            ],
            "image/png": "[encoded data removed]"
          },
          "metadata": {
            "needs_background": "light"
          }
        },
        {
          "output_type": "display_data",
          "data": {
            "text/plain": [
              "<Figure size 432x288 with 1 Axes>"
            ],
            "image/png": "[encoded data removed]"
          },
          "metadata": {
            "needs_background": "light"
          }
        }
      ]
    },
    {
      "cell_type": "code",
      "source": [
        "#Output from Convolution Layer 2 after ReLu\n",
        "from keras.models import Model\n",
        "\n",
        "XX = model3.input\n",
        "YY = model3.layers[1].output\n",
        "new_model = Model(XX, YY)\n",
        "\n",
        "test_image = test_image.reshape((1,28,28))\n",
        "ex_image = tf.convert_to_tensor(test_image)\n",
        "Xresult_2 = new_model.predict(ex_image)\n",
        "\n",
        "# Plot the image\n",
        "Xresult_2.reshape(28,28,8)\n",
        "# Plot the image\n",
        "plt.figure()\n",
        "plt.setp(plt.gcf().get_axes(), xticks=[], yticks=[])\n",
        "for i in range(8):\n",
        "  plt.imshow(Xresult[:,:,:,i].reshape(28,28), cmap=plt.cm.binary)\n",
        "  plt.show()"
      ],
      "metadata": {
        "id": "mqjz3xfbGMJq",
        "colab": {
          "base_uri": "https://localhost:8080/",
          "height": 1000
        },
        "outputId": "8e5497f8-569f-4bd1-bb54-fdbe8c9f65b7"
      },
      "execution_count": 22,
      "outputs": [
        {
          "output_type": "display_data",
          "data": {
            "text/plain": [
              "<Figure size 432x288 with 1 Axes>"
            ],
            "image/png": "[encoded data removed]"
          },
          "metadata": {
            "needs_background": "light"
          }
        },
        {
          "output_type": "display_data",
          "data": {
            "text/plain": [
              "<Figure size 432x288 with 1 Axes>"
            ],
            "image/png": "[encoded data removed]"
          },
          "metadata": {
            "needs_background": "light"
          }
        },
        {
          "output_type": "display_data",
          "data": {
            "text/plain": [
              "<Figure size 432x288 with 1 Axes>"
            ],
            "image/png": "[encoded data removed]"
          },
          "metadata": {
            "needs_background": "light"
          }
        },
        {
          "output_type": "display_data",
          "data": {
            "text/plain": [
              "<Figure size 432x288 with 1 Axes>"
            ],
            "image/png": "[encoded data removed]"
          },
          "metadata": {
            "needs_background": "light"
          }
        },
        {
          "output_type": "display_data",
          "data": {
            "text/plain": [
              "<Figure size 432x288 with 1 Axes>"
            ],
            "image/png": "[encoded data removed]"
          },
          "metadata": {
            "needs_background": "light"
          }
        },
        {
          "output_type": "display_data",
          "data": {
            "text/plain": [
              "<Figure size 432x288 with 1 Axes>"
            ],
            "image/png": "[encoded data removed]"
          },
          "metadata": {
            "needs_background": "light"
          }
        },
        {
          "output_type": "display_data",
          "data": {
            "text/plain": [
              "<Figure size 432x288 with 1 Axes>"
            ],
            "image/png": "[encoded data removed]"
          },
          "metadata": {
            "needs_background": "light"
          }
        },
        {
          "output_type": "display_data",
          "data": {
            "text/plain": [
              "<Figure size 432x288 with 1 Axes>"
            ],
            "image/png": "[encoded data removed]"
          },
          "metadata": {
            "needs_background": "light"
          }
        }
      ]
    }
  ]
}